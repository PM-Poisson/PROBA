{
 "cells": [
  {
   "cell_type": "code",
   "execution_count": 1,
   "metadata": {},
   "outputs": [
    {
     "name": "stdout",
     "output_type": "stream",
     "text": [
      "===== Exemple 1 =====\n",
      "Les effectifs : [4. 0. 7. 0. 0. 5.]\n",
      "binX : [0.5 1.5 2.5 3.5 4.5 5.5 6.5]\n",
      "Nombre de classes : 6\n"
     ]
    },
    {
     "data": {
      "image/png": "[encoded data removed]",
      "text/plain": [
       "<Figure size 640x480 with 1 Axes>"
      ]
     },
     "metadata": {},
     "output_type": "display_data"
    }
   ],
   "source": [
    "import numpy as np\n",
    "import matplotlib.pyplot as plt\n",
    "\n",
    "# Exemple 1 : liste de quelques nombres entiers compris entre 1 et 6\n",
    "X = [1, 3, 6, 6, 1, 3, 3, 6, 1, 3, 6, 6, 3, 1, 3, 3]\n",
    "\n",
    "# histogramme des effectifs de X\n",
    "print('===== Exemple 1 =====')\n",
    "hX, binsX, _ = plt.hist(X, bins=np.arange(1, 8) - 0.5)\n",
    "\n",
    "# informations sur l'histogramme\n",
    "print(f'Les effectifs : {hX}')\n",
    "print(f'binX : {binsX}')\n",
    "print(f'Nombre de classes : {len(binsX) - 1}')\n",
    "\n"
   ]
  }
 ],
 "metadata": {
  "kernelspec": {
   "display_name": ".venv",
   "language": "python",
   "name": "python3"
  },
  "language_info": {
   "codemirror_mode": {
    "name": "ipython",
    "version": 3
   },
   "file_extension": ".py",
   "mimetype": "text/x-python",
   "name": "python",
   "nbconvert_exporter": "python",
   "pygments_lexer": "ipython3",
   "version": "3.13.0"
  },
  "orig_nbformat": 4
 },
 "nbformat": 4,
 "nbformat_minor": 2
}
